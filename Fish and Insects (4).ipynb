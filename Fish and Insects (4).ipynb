{
 "cells": [
  {
   "cell_type": "markdown",
   "metadata": {},
   "source": [
    "# import and create dataframe"
   ]
  },
  {
   "cell_type": "code",
   "execution_count": 29,
   "metadata": {},
   "outputs": [],
   "source": [
    "import pandas as pd\n",
    "fish = pd.read_csv('ac_fish.csv')\n",
    "insects = pd.read_csv('ac_insects.csv')\n"
   ]
  },
  {
   "cell_type": "code",
   "execution_count": 30,
   "metadata": {},
   "outputs": [],
   "source": [
    "# the months and times active columns are confusing and can be displayed in a more efficient way.\n",
    "fish_months = fish.iloc[:,8:20]"
   ]
  },
  {
   "cell_type": "markdown",
   "metadata": {},
   "source": [
    "# clean month/times data"
   ]
  },
  {
   "cell_type": "code",
   "execution_count": 31,
   "metadata": {},
   "outputs": [],
   "source": [
    "# rename the columns\n",
    "fish_months.columns = ['Jan', 'Feb', 'Mar', 'Apr', 'May', 'June', 'July','Aug','Sep','Oct','Nov','Dec']\n",
    "\n",
    "\n"
   ]
  },
  {
   "cell_type": "code",
   "execution_count": 32,
   "metadata": {},
   "outputs": [],
   "source": [
    "active_months = []\n",
    "for i in range(len(fish_months)):\n",
    "# iterate through the amount of rows in the fish_months dataframe\n",
    "    months = list(fish_months.columns[(fish_months.notna()).iloc[i]])\n",
    "    # return the column labels according to the condition that the values are not null, \n",
    "    # iterate through each row iloc[i]\n",
    "    active_months.append(months)\n",
    "\n",
    "fishy_months = pd.DataFrame(active_months)\n",
    "fishy_months.fillna(value=pd.np.nan, inplace=True)\n",
    "fishy_months.columns = ['0','1','2','3','4','5','6','7','8','9','10','11']"
   ]
  },
  {
   "cell_type": "code",
   "execution_count": 33,
   "metadata": {},
   "outputs": [],
   "source": [
    "first_month = fishy_months.iloc[:,0]\n",
    "date_range = pd.DataFrame(first_month)"
   ]
  },
  {
   "cell_type": "code",
   "execution_count": 34,
   "metadata": {},
   "outputs": [],
   "source": [
    "all_last_months = []\n",
    "for i in range(len(fishy_months)):\n",
    "    index = int(pd.Series(fishy_months.iloc[i,:]).last_valid_index())\n",
    "    last_month = fishy_months.iloc[i, index]\n",
    "    all_last_months.append(last_month)\n"
   ]
  },
  {
   "cell_type": "code",
   "execution_count": 35,
   "metadata": {},
   "outputs": [],
   "source": [
    "date_range['last'] = all_last_months\n"
   ]
  },
  {
   "cell_type": "code",
   "execution_count": 36,
   "metadata": {},
   "outputs": [],
   "source": [
    "times = fish_months.fillna(method='bfill', axis=1).iloc[:, 0]\n",
    "date_range['time'] = times"
   ]
  },
  {
   "cell_type": "code",
   "execution_count": 37,
   "metadata": {},
   "outputs": [],
   "source": [
    "date_range.columns = ['first','last','time']"
   ]
  },
  {
   "cell_type": "markdown",
   "metadata": {},
   "source": [
    "# count fish occurrence by date range"
   ]
  },
  {
   "cell_type": "code",
   "execution_count": 38,
   "metadata": {},
   "outputs": [],
   "source": [
    "#date_range.groupby(['first','last']).size().reset_index(name='count')"
   ]
  },
  {
   "cell_type": "code",
   "execution_count": 39,
   "metadata": {},
   "outputs": [],
   "source": [
    "fish = fish[['Name', 'Sell', 'Where/How', 'Total Catches to Unlock', 'Spawn Rates']]\n"
   ]
  },
  {
   "cell_type": "code",
   "execution_count": 40,
   "metadata": {},
   "outputs": [],
   "source": [
    "fish = pd.merge(fish, date_range, left_index=True,right_index=True)"
   ]
  },
  {
   "cell_type": "code",
   "execution_count": 41,
   "metadata": {},
   "outputs": [],
   "source": [
    "import plotly.express as px\n",
    "fig = px.histogram(fish, x=\"Sell\", nbins=50)\n",
    "#fig.show()"
   ]
  },
  {
   "cell_type": "code",
   "execution_count": 42,
   "metadata": {},
   "outputs": [],
   "source": [
    "no_months = list(fish_months.apply(lambda x: x.count(), axis=1))\n",
    "fish['months_active'] = no_months"
   ]
  },
  {
   "cell_type": "code",
   "execution_count": 53,
   "metadata": {},
   "outputs": [],
   "source": [
    "pd.set_option('display.max_rows', None)\n",
    "fish['time']\n",
    "\n",
    "# 4 am to 9 pm is 12 hours\n",
    "# 9 pm to 4 am is 7 hours\n",
    "# 9 am to 4 pm is 7 hours\n",
    "# 9 AM – 4 PM; 9 PM – 4 AM is 14 hours\n",
    "\n",
    "\n",
    "fouram_ninepm = '4 AM – 9 PM'\n",
    "fourpm_nineam = '4 PM –\\xa09 AM'\n",
    "ninepm_fouram = '9 PM – 4 AM'\n",
    "nineam_fourpm = '9 AM –\\xa04 PM'\n",
    "ninefourninefour = '9 AM – 4 PM; 9 PM – 4 AM'\n",
    "allday = 'All day'\n",
    "\n",
    "\n",
    "\n",
    "\n",
    "total_hours = []\n",
    "\n",
    "for i in fish['time']:\n",
    "    if i == '4 AM – 9 PM':\n",
    "        total_hours.append(12)\n",
    "    elif i == '9 PM – 4 AM' or i == '9 PM –\\xa04 AM':\n",
    "        total_hours.append(7)\n",
    "    elif i == '4 PM –\\xa09 AM':\n",
    "        total_hours.append(17)\n",
    "    elif i == '9 AM –\\xa04 PM':\n",
    "        total_hours.append(7)\n",
    "    elif i == '9 AM –\\xa04 PM; 9 PM – 4 AM':\n",
    "        total_hours.append(14)\n",
    "    elif i == 'All day':\n",
    "        total_hours.append(24)\n",
    "    else:\n",
    "        total_hours.append('?')\n",
    "fish['total_hours'] = total_hours       "
   ]
  },
  {
   "cell_type": "code",
   "execution_count": null,
   "metadata": {},
   "outputs": [],
   "source": []
  },
  {
   "cell_type": "markdown",
   "metadata": {},
   "source": [
    "# Convert Fish Location to Binary"
   ]
  },
  {
   "cell_type": "code",
   "execution_count": 54,
   "metadata": {},
   "outputs": [],
   "source": [
    "location = {'Where/How':{'Sea':1, 'Sea (rainy days)': 1, 'Pier':1, 'River':0, 'River (clifftop)': 0, 'Pond':0, 'River (mouth)':0, }}\n",
    "fish.replace(location, inplace=True)\n",
    "\n",
    "\n",
    "\n"
   ]
  },
  {
   "cell_type": "code",
   "execution_count": 55,
   "metadata": {},
   "outputs": [
    {
     "data": {
      "text/plain": [
       "0.575"
      ]
     },
     "execution_count": 55,
     "metadata": {},
     "output_type": "execute_result"
    }
   ],
   "source": [
    "46/80\n",
    "\n",
    "# 57.5% of all fish are caught in the ocean."
   ]
  },
  {
   "cell_type": "code",
   "execution_count": 83,
   "metadata": {},
   "outputs": [
    {
     "data": {
      "text/plain": [
       "Text(0, 0.5, 'Outcome')"
      ]
     },
     "execution_count": 83,
     "metadata": {},
     "output_type": "execute_result"
    },
    {
     "data": {
      "image/png": "[encoded data removed]",
      "text/plain": [
       "<Figure size 720x432 with 1 Axes>"
      ]
     },
     "metadata": {
      "needs_background": "light"
     },
     "output_type": "display_data"
    }
   ],
   "source": [
    "plt.figure(figsize = (10,6))\n",
    "plt.scatter(fish['months_active'], location)\n",
    "plt.xlabel('BMI')\n",
    "plt.ylabel('Outcome')"
   ]
  },
  {
   "cell_type": "code",
   "execution_count": 57,
   "metadata": {},
   "outputs": [],
   "source": [
    "price = fish['Sell']"
   ]
  },
  {
   "cell_type": "code",
   "execution_count": 58,
   "metadata": {},
   "outputs": [],
   "source": [
    "import numpy as np\n",
    "price = np.array(fish['Sell']).reshape(-1,1)\n",
    "location = np.array(fish['Where/How']).reshape(-1,1)"
   ]
  },
  {
   "cell_type": "code",
   "execution_count": 59,
   "metadata": {},
   "outputs": [],
   "source": [
    "from sklearn.linear_model import LogisticRegression\n",
    "from sklearn.linear_model import LinearRegression\n",
    "\n",
    "# Create linear regression model\n",
    "lin_reg = LinearRegression()\n",
    "lin_reg.fit(price, location)\n",
    "# Store the coefficients\n",
    "coef = lin_reg.coef_\n",
    "interc = lin_reg.intercept_\n",
    "# Create the line\n",
    "lin_income = (interc + price * coef)"
   ]
  },
  {
   "cell_type": "code",
   "execution_count": 60,
   "metadata": {},
   "outputs": [],
   "source": [
    "location = location.astype(int)\n",
    "a = fish['Where/How'].astype(int)\n",
    "location_a = []\n",
    "for i in a:\n",
    "    location_a.append(i)"
   ]
  },
  {
   "cell_type": "code",
   "execution_count": 61,
   "metadata": {},
   "outputs": [
    {
     "data": {
      "text/plain": [
       "array([1, 0, 0, 0, 1, 1, 0, 0, 0, 1, 1, 0, 1, 0, 0, 0, 0, 1, 1, 0, 0, 1,\n",
       "       0, 0, 1, 0, 0, 0, 0, 1, 0, 0, 1, 0, 1, 1, 0, 0, 0, 0, 1, 0, 1, 1,\n",
       "       0, 0, 1, 1, 1, 0, 0, 0, 0, 0, 1, 0, 0, 1, 1, 1, 0, 0, 1, 1, 1, 1,\n",
       "       0, 0, 1, 0, 0, 1, 1, 0, 0, 0, 1, 1, 0, 1])"
      ]
     },
     "execution_count": 61,
     "metadata": {},
     "output_type": "execute_result"
    }
   ],
   "source": [
    "location = np.array(location_a)\n",
    "location"
   ]
  },
  {
   "cell_type": "code",
   "execution_count": 62,
   "metadata": {},
   "outputs": [
    {
     "data": {
      "image/png": "[encoded data removed]",
      "text/plain": [
       "<Figure size 576x432 with 1 Axes>"
      ]
     },
     "metadata": {
      "needs_background": "light"
     },
     "output_type": "display_data"
    }
   ],
   "source": [
    "fig = plt.figure(figsize=(8, 6))\n",
    "fig.suptitle('linear regression', fontsize=16)\n",
    "plt.scatter(price, location)\n",
    "plt.xlabel('age', fontsize=14)\n",
    "plt.ylabel('monthly income', fontsize=14)\n",
    "plt.plot(price, lin_income, c='black')\n",
    "plt.show()"
   ]
  },
  {
   "cell_type": "code",
   "execution_count": 63,
   "metadata": {},
   "outputs": [
    {
     "data": {
      "text/plain": [
       "LogisticRegression(C=100000.0, class_weight=None, dual=False,\n",
       "                   fit_intercept=True, intercept_scaling=1, l1_ratio=None,\n",
       "                   max_iter=100, multi_class='auto', n_jobs=None, penalty='l2',\n",
       "                   random_state=None, solver='liblinear', tol=0.0001, verbose=0,\n",
       "                   warm_start=False)"
      ]
     },
     "execution_count": 63,
     "metadata": {},
     "output_type": "execute_result"
    }
   ],
   "source": [
    "# Instantiate a Logistic regression model\n",
    "# Solver must be specified to avoid warning, see documentation for more information\n",
    "# liblinear is recommended for small datasets\n",
    "# https://scikit-learn.org/stable/modules/generated/sklearn.linear_model.LogisticRegression.html\n",
    "regr = LogisticRegression(C=1e5, solver='liblinear')\n",
    "\n",
    "# Fit the model to the training set\n",
    "regr.fit(price, location)"
   ]
  },
  {
   "cell_type": "code",
   "execution_count": 64,
   "metadata": {},
   "outputs": [],
   "source": [
    "# Store the coefficients\n",
    "coef = regr.coef_\n",
    "interc = regr.intercept_\n",
    "\n",
    "# Create the linear predictor\n",
    "lin_pred = (price * coef + interc)\n",
    "\n",
    "# Perform the log transformation\n",
    "mod_income = 1 / (1 + np.exp(-lin_pred))\n",
    "\n",
    "# Sort the numbers to make sure plot looks right\n",
    "age_ordered, mod_income_ordered = zip(*sorted(zip(price, mod_income.ravel()),key=lambda x: x[0]))"
   ]
  },
  {
   "cell_type": "code",
   "execution_count": 65,
   "metadata": {},
   "outputs": [
    {
     "data": {
      "image/png": "[encoded data removed]",
      "text/plain": [
       "<Figure size 576x432 with 1 Axes>"
      ]
     },
     "metadata": {
      "needs_background": "light"
     },
     "output_type": "display_data"
    }
   ],
   "source": [
    "fig = plt.figure(figsize=(8, 6))\n",
    "fig.suptitle('logistic regression', fontsize=16)\n",
    "plt.scatter(price, location)\n",
    "plt.xlabel('price', fontsize=14)\n",
    "plt.ylabel('location', fontsize=14)\n",
    "plt.plot(age_ordered, mod_income_ordered, c='black')\n",
    "plt.show()"
   ]
  },
  {
   "cell_type": "markdown",
   "metadata": {},
   "source": [
    "# Logistic Regression Model Construction & Coefficients"
   ]
  },
  {
   "cell_type": "code",
   "execution_count": 66,
   "metadata": {},
   "outputs": [
    {
     "data": {
      "text/plain": [
       "(80,)"
      ]
     },
     "execution_count": 66,
     "metadata": {},
     "output_type": "execute_result"
    }
   ],
   "source": [
    "y = fish['Where/How']\n",
    "y.shape\n",
    "\n",
    "# There are 80 values in the location column"
   ]
  },
  {
   "cell_type": "code",
   "execution_count": 67,
   "metadata": {},
   "outputs": [
    {
     "data": {
      "text/plain": [
       "0    46\n",
       "1    34\n",
       "Name: Where/How, dtype: int64"
      ]
     },
     "execution_count": 67,
     "metadata": {},
     "output_type": "execute_result"
    }
   ],
   "source": [
    "import numpy as np\n",
    "X = pd.DataFrame(np.zeros(80))\n",
    "fish['Where/How'].value_counts()"
   ]
  },
  {
   "cell_type": "code",
   "execution_count": 69,
   "metadata": {},
   "outputs": [],
   "source": [
    "import pandas as pd\n",
    "import numpy as np\n",
    "import seaborn as sns\n",
    "import matplotlib.pyplot as plt\n",
    "from sklearn.linear_model import LogisticRegression\n",
    "from sklearn.model_selection import train_test_split\n",
    "%matplotlib inline\n",
    "X_train, X_test, y_train, y_test = train_test_split(X,y, test_size = 0.2, random_state = 42)\n",
    "logreg = LogisticRegression().fit(X,y)"
   ]
  },
  {
   "cell_type": "code",
   "execution_count": 71,
   "metadata": {},
   "outputs": [
    {
     "name": "stdout",
     "output_type": "stream",
     "text": [
      "[[0.]]\n",
      "[-0.30228086]\n"
     ]
    }
   ],
   "source": [
    "logreg.predict(X_test.iloc[1:2,:])\n",
    "print(logreg.coef_)\n",
    "print(logreg.intercept_)"
   ]
  },
  {
   "cell_type": "code",
   "execution_count": 72,
   "metadata": {},
   "outputs": [
    {
     "data": {
      "text/plain": [
       "0.4250000019587727"
      ]
     },
     "execution_count": 72,
     "metadata": {},
     "output_type": "execute_result"
    }
   ],
   "source": [
    "odds = np.exp(logreg.intercept_[0])\n",
    "probability = (odds / (1+ odds))\n",
    "probability"
   ]
  },
  {
   "cell_type": "code",
   "execution_count": null,
   "metadata": {},
   "outputs": [],
   "source": []
  },
  {
   "cell_type": "code",
   "execution_count": 73,
   "metadata": {},
   "outputs": [
    {
     "data": {
      "text/plain": [
       "0.4375"
      ]
     },
     "execution_count": 73,
     "metadata": {},
     "output_type": "execute_result"
    }
   ],
   "source": [
    "X = fish[['Sell', 'months_active', 'total_hours']]\n",
    "y = fish['Where/How']\n",
    "X_train, X_test, y_train, y_test = train_test_split(X,y, test_size = 0.2, random_state = 42)\n",
    "logreg = LogisticRegression().fit(X_train,y_train)\n",
    "logreg.score(X_test, y_test, sample_weight=None)"
   ]
  },
  {
   "cell_type": "code",
   "execution_count": 74,
   "metadata": {},
   "outputs": [
    {
     "data": {
      "text/plain": [
       "array([[ 7.07885835e-05, -1.01195599e-01,  1.03432390e-02]])"
      ]
     },
     "execution_count": 74,
     "metadata": {},
     "output_type": "execute_result"
    }
   ],
   "source": [
    "logreg.coef_"
   ]
  },
  {
   "cell_type": "code",
   "execution_count": 75,
   "metadata": {},
   "outputs": [
    {
     "data": {
      "text/plain": [
       "array([-0.01505891])"
      ]
     },
     "execution_count": 75,
     "metadata": {},
     "output_type": "execute_result"
    }
   ],
   "source": [
    "logreg.intercept_"
   ]
  },
  {
   "cell_type": "code",
   "execution_count": 81,
   "metadata": {},
   "outputs": [
    {
     "data": {
      "text/plain": [
       "0.6585711695686282"
      ]
     },
     "execution_count": 81,
     "metadata": {},
     "output_type": "execute_result"
    }
   ],
   "source": [
    "x1 = 10000\n",
    "x2 = 6\n",
    "x3 = 24\n",
    "y = (.0000707885835*x1) - (.0101195599*x2) + .0010343239*x3 -.01505891\n",
    "odds = (np.exp(y))/(1+np.exp(y))\n",
    "odds"
   ]
  },
  {
   "cell_type": "code",
   "execution_count": null,
   "metadata": {},
   "outputs": [],
   "source": []
  },
  {
   "cell_type": "code",
   "execution_count": null,
   "metadata": {},
   "outputs": [],
   "source": []
  }
 ],
 "metadata": {
  "kernelspec": {
   "display_name": "Python 3",
   "language": "python",
   "name": "python3"
  },
  "language_info": {
   "codemirror_mode": {
    "name": "ipython",
    "version": 3
   },
   "file_extension": ".py",
   "mimetype": "text/x-python",
   "name": "python",
   "nbconvert_exporter": "python",
   "pygments_lexer": "ipython3",
   "version": "3.7.4"
  }
 },
 "nbformat": 4,
 "nbformat_minor": 2
}
